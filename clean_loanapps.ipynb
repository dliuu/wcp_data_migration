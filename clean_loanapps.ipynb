{
 "cells": [
  {
   "cell_type": "code",
   "execution_count": null,
   "metadata": {},
   "outputs": [],
   "source": [
    "import pandas as pd\n",
    "import numpy as np\n",
    "\n",
    "pd.options.display.max_rows = None\n",
    "pd.options.display.max_columns = None"
   ]
  },
  {
   "cell_type": "code",
   "execution_count": null,
   "metadata": {},
   "outputs": [],
   "source": [
    "raw_df = pd.read_csv('raw_data/loanapps.csv', on_bad_lines='skip')\n",
    "raw_df.info()\n",
    "raw_df.columns\n",
    "raw_df.head(10)\n"
   ]
  },
  {
   "cell_type": "code",
   "execution_count": null,
   "metadata": {},
   "outputs": [],
   "source": [
    "df = raw_df.dropna(thresh=5000,axis=1, how='all')\n",
    "df.columns\n",
    "df.info()\n",
    "df.tail(10)"
   ]
  },
  {
   "cell_type": "code",
   "execution_count": 27,
   "metadata": {},
   "outputs": [
    {
     "name": "stderr",
     "output_type": "stream",
     "text": [
      "/var/folders/m5/cx4hwql56m5_7gzqnfv0v5q80000gn/T/ipykernel_24621/4211666330.py:1: SettingWithCopyWarning: \n",
      "A value is trying to be set on a copy of a slice from a DataFrame.\n",
      "Try using .loc[row_indexer,col_indexer] = value instead\n",
      "\n",
      "See the caveats in the documentation: https://pandas.pydata.org/pandas-docs/stable/user_guide/indexing.html#returning-a-view-versus-a-copy\n",
      "  df['nexrm_purchaseprice'] = raw_df['nexrm_purchaseprice']\n",
      "/var/folders/m5/cx4hwql56m5_7gzqnfv0v5q80000gn/T/ipykernel_24621/4211666330.py:2: SettingWithCopyWarning: \n",
      "A value is trying to be set on a copy of a slice from a DataFrame.\n",
      "Try using .loc[row_indexer,col_indexer] = value instead\n",
      "\n",
      "See the caveats in the documentation: https://pandas.pydata.org/pandas-docs/stable/user_guide/indexing.html#returning-a-view-versus-a-copy\n",
      "  df['nexrm_purchaseprice_base'] = raw_df['nexrm_purchaseprice_base']\n",
      "/var/folders/m5/cx4hwql56m5_7gzqnfv0v5q80000gn/T/ipykernel_24621/4211666330.py:10: SettingWithCopyWarning: \n",
      "A value is trying to be set on a copy of a slice from a DataFrame\n",
      "\n",
      "See the caveats in the documentation: https://pandas.pydata.org/pandas-docs/stable/user_guide/indexing.html#returning-a-view-versus-a-copy\n",
      "  df[convert_to_ints].dropna(axis=0, inplace=True)\n",
      "/var/folders/m5/cx4hwql56m5_7gzqnfv0v5q80000gn/T/ipykernel_24621/4211666330.py:11: SettingWithCopyWarning: \n",
      "A value is trying to be set on a copy of a slice from a DataFrame.\n",
      "Try using .loc[row_indexer,col_indexer] = value instead\n",
      "\n",
      "See the caveats in the documentation: https://pandas.pydata.org/pandas-docs/stable/user_guide/indexing.html#returning-a-view-versus-a-copy\n",
      "  df[convert_to_ints] = df[convert_to_ints].astype('str')\n",
      "/var/folders/m5/cx4hwql56m5_7gzqnfv0v5q80000gn/T/ipykernel_24621/4211666330.py:23: SettingWithCopyWarning: \n",
      "A value is trying to be set on a copy of a slice from a DataFrame.\n",
      "Try using .loc[row_indexer,col_indexer] = value instead\n",
      "\n",
      "See the caveats in the documentation: https://pandas.pydata.org/pandas-docs/stable/user_guide/indexing.html#returning-a-view-versus-a-copy\n",
      "  df[convert_to_ints] = df[convert_to_ints].applymap(lambda x: remove_chars(x) if isinstance(x, str) else x)\n",
      "/var/folders/m5/cx4hwql56m5_7gzqnfv0v5q80000gn/T/ipykernel_24621/4211666330.py:27: SettingWithCopyWarning: \n",
      "A value is trying to be set on a copy of a slice from a DataFrame\n",
      "\n",
      "See the caveats in the documentation: https://pandas.pydata.org/pandas-docs/stable/user_guide/indexing.html#returning-a-view-versus-a-copy\n",
      "  df[convert_to_ints].dropna(axis=0, how='any', inplace=True)\n",
      "/var/folders/m5/cx4hwql56m5_7gzqnfv0v5q80000gn/T/ipykernel_24621/4211666330.py:31: SettingWithCopyWarning: \n",
      "A value is trying to be set on a copy of a slice from a DataFrame.\n",
      "Try using .loc[row_indexer,col_indexer] = value instead\n",
      "\n",
      "See the caveats in the documentation: https://pandas.pydata.org/pandas-docs/stable/user_guide/indexing.html#returning-a-view-versus-a-copy\n",
      "  df[convert_to_ints] = df[convert_to_ints].astype('float')\n"
     ]
    }
   ],
   "source": [
    "df['nexrm_purchaseprice'] = raw_df['nexrm_purchaseprice']\n",
    "df['nexrm_purchaseprice_base'] = raw_df['nexrm_purchaseprice_base']\n",
    "\n",
    "convert_to_ints = ['nexrm_requestedloanamount', 'nexrm_requestedloanamount_base', 'nexrm_purchaseprice', 'nexrm_purchaseprice_base', 'nexrm_borrowerestimateasis',\n",
    "                    'nexrm_borrowerestimateasis_base', 'nexrm_borrowerestimateafterrepair', 'nexrm_borrowerestimateafterrepair_base',\n",
    "                    'nexrm_borrowerestimaterepaircosts', 'nexrm_borrowerestimaterepaircosts_base',\n",
    "                    'nexrm_borrowermoneyintotransaction', 'nexrm_borrowermoneyintotransaction_base']\n",
    "\n",
    "\n",
    "df[convert_to_ints].dropna(axis=0, inplace=True)\n",
    "df[convert_to_ints] = df[convert_to_ints].astype('str')\n",
    "df[convert_to_ints].dtypes\n",
    "\n",
    "def remove_chars(s):\n",
    "    if isinstance (s, str):\n",
    "        s = s.replace('$', '').replace(',', '').replace('<NA>', '')\n",
    "        if s.startswith('.'):\n",
    "            s = s[1:]\n",
    "        if s.strip() == '':\n",
    "            return np.nan\n",
    "    return s\n",
    "\n",
    "df[convert_to_ints] = df[convert_to_ints].applymap(lambda x: remove_chars(x) if isinstance(x, str) else x)\n",
    "\n",
    "df[convert_to_ints].replace('<NA>', np.nan)\n",
    "df[convert_to_ints].replace('', np.nan)\n",
    "df[convert_to_ints].dropna(axis=0, how='any', inplace=True)\n",
    "\n",
    "\n",
    "\n",
    "df[convert_to_ints] = df[convert_to_ints].astype('float')\n",
    "\n",
    "\n",
    "#for col_name, col_data in df[convert_to_ints].iteritems():\n",
    "    #for val in col_data:\n",
    "        #print(val)\n",
    "\n",
    "\n",
    "\n",
    "\n",
    "\n",
    "\n",
    "\n",
    "\n",
    "\n"
   ]
  },
  {
   "cell_type": "code",
   "execution_count": 28,
   "metadata": {},
   "outputs": [
    {
     "data": {
      "text/plain": [
       "nexrm_requestedloanamount                  float64\n",
       "nexrm_requestedloanamount_base             float64\n",
       "nexrm_purchaseprice                        float64\n",
       "nexrm_purchaseprice_base                   float64\n",
       "nexrm_borrowerestimateasis                 float64\n",
       "nexrm_borrowerestimateasis_base            float64\n",
       "nexrm_borrowerestimateafterrepair          float64\n",
       "nexrm_borrowerestimateafterrepair_base     float64\n",
       "nexrm_borrowerestimaterepaircosts          float64\n",
       "nexrm_borrowerestimaterepaircosts_base     float64\n",
       "nexrm_borrowermoneyintotransaction         float64\n",
       "nexrm_borrowermoneyintotransaction_base    float64\n",
       "dtype: object"
      ]
     },
     "execution_count": 28,
     "metadata": {},
     "output_type": "execute_result"
    }
   ],
   "source": [
    "df[convert_to_ints].dtypes"
   ]
  }
 ],
 "metadata": {
  "kernelspec": {
   "display_name": "stock_prediction_keras_LSTM",
   "language": "python",
   "name": "python3"
  },
  "language_info": {
   "codemirror_mode": {
    "name": "ipython",
    "version": 3
   },
   "file_extension": ".py",
   "mimetype": "text/x-python",
   "name": "python",
   "nbconvert_exporter": "python",
   "pygments_lexer": "ipython3",
   "version": "3.9.12"
  }
 },
 "nbformat": 4,
 "nbformat_minor": 2
}
